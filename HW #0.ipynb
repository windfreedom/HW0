{
 "cells": [
  {
   "cell_type": "code",
   "execution_count": 1,
   "metadata": {
    "collapsed": false
   },
   "outputs": [
    {
     "name": "stdout",
     "output_type": "stream",
     "text": [
      "2\n"
     ]
    }
   ],
   "source": [
    "x = 1 + 1\n",
    "print x "
   ]
  },
  {
   "cell_type": "code",
   "execution_count": 2,
   "metadata": {
    "collapsed": false
   },
   "outputs": [
    {
     "name": "stdout",
     "output_type": "stream",
     "text": [
      "4\n"
     ]
    }
   ],
   "source": [
    "print 2*x \n"
   ]
  },
  {
   "cell_type": "code",
   "execution_count": 31,
   "metadata": {
    "collapsed": false,
    "scrolled": true
   },
   "outputs": [
    {
     "name": "stdout",
     "output_type": "stream",
     "text": [
      "EXAMPLE MATRIX [[ 0.76115232  0.90581383]\n",
      " [ 0.01790702  0.55932979]\n",
      " [ 0.66574495  0.59596039]]\n",
      "DIMENSIONS 2 2\n",
      "6 6\n",
      "(3, 2) (3, 2)\n",
      "3 2\n",
      "[[ 1.  2.  3.]\n",
      " [ 4.  5.  6.]]\n",
      "[[1 1 2 2]\n",
      " [1 1 2 2]\n",
      " [3 4 7 8]\n",
      " [5 6 9 0]]\n",
      "[1 2 3 4 5 6]\n",
      "6\n",
      "0.559329792831\n",
      "[ 0.76115232  0.90581383] [ 0.76115232  0.90581383]\n",
      "[[ 0.76115232  0.90581383]\n",
      " [ 0.01790702  0.55932979]]\n",
      "[ 0.66574495  0.59596039]\n"
     ]
    }
   ],
   "source": [
    "import numpy as np\n",
    "import scipy.linalg\n",
    "\n",
    "\n",
    "a = np.random.rand(3,2)\n",
    "\n",
    "print \"EXAMPLE MATRIX\", a\n",
    "print \"DIMENSIONS\", np.ndim(a), a.ndim\n",
    "print np.size(a), a.size\n",
    "print np.shape(a), a.shape\n",
    "print a.shape[0], a.shape[1]\n",
    "print np.array([[1.,2.,3.], [4.,5.,6.]])\n",
    "\n",
    "A = np.mat('1 1; 1 1')\n",
    "B = np.mat('2 2; 2 2')\n",
    "C = np.mat('3 4; 5 6')\n",
    "D = np.mat('7 8; 9 0')\n",
    "\n",
    "print np.bmat([[A,B],[C,D]])\n",
    "\n",
    "E = np.array([1,2,3,4,5,6])\n",
    "\n",
    "print E\n",
    "\n",
    "print E[-1]\n",
    "\n",
    "print a[1,1]\n",
    "\n",
    "\n",
    "print a[0], a[0,:]\n",
    "\n",
    "print a[0:2]\n",
    "\n",
    "print a[-1]\n",
    "\n",
    "\n",
    "\n",
    "\n"
   ]
  },
  {
   "cell_type": "code",
   "execution_count": 33,
   "metadata": {
    "collapsed": false,
    "scrolled": true
   },
   "outputs": [
    {
     "data": {
      "image/png": "[encoded data removed]",
      "text/plain": [
       "<matplotlib.figure.Figure at 0x10c6d9610>"
      ]
     },
     "metadata": {},
     "output_type": "display_data"
    },
    {
     "data": {
      "image/png": "[encoded data removed]",
      "text/plain": [
       "<matplotlib.figure.Figure at 0x10c81ae10>"
      ]
     },
     "metadata": {},
     "output_type": "display_data"
    }
   ],
   "source": [
    "import matplotlib.pyplot as plt\n",
    "plt.plot([1,2,3,4], [1,2,7,14])\n",
    "plt.axis([0, 6, 0, 20])\n",
    "plt.show()\n",
    "\n",
    "\n",
    "\n",
    "x = np.arange(0, 5, 0.1);\n",
    "y = np.sin(x)\n",
    "plt.plot(x, y)\n",
    "\n",
    "\n",
    "\n",
    "plt.show()\n"
   ]
  },
  {
   "cell_type": "code",
   "execution_count": null,
   "metadata": {
    "collapsed": true
   },
   "outputs": [],
   "source": []
  }
 ],
 "metadata": {
  "kernelspec": {
   "display_name": "Python 2",
   "language": "python",
   "name": "python2"
  },
  "language_info": {
   "codemirror_mode": {
    "name": "ipython",
    "version": 2
   },
   "file_extension": ".py",
   "mimetype": "text/x-python",
   "name": "python",
   "nbconvert_exporter": "python",
   "pygments_lexer": "ipython2",
   "version": "2.7.13"
  }
 },
 "nbformat": 4,
 "nbformat_minor": 2
}
